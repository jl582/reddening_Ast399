{
 "cells": [
  {
   "cell_type": "code",
   "execution_count": 34,
   "metadata": {},
   "outputs": [],
   "source": [
    "#!/usr/bin/python\n",
    "# encoding=utf8\n",
    "import sys\n",
    "reload(sys)\n",
    "sys.setdefaultencoding('utf8')\n",
    "\n",
    "import matplotlib.pyplot as plt\n",
    "import numpy as np\n",
    "from scipy import polyval, polyfit\n",
    "from scipy.optimize import curve_fit\n",
    "from astropy.stats import sigma_clip\n",
    "\n",
    "### external codes\n",
    "from redTools import *\n",
    "from Kcorrect import *\n",
    "  \n",
    "########################################################### Begin\n",
    "\n",
    "inFile  = 'ESN_HI_catal.csv'   # input catalog\n",
    "table   = np.genfromtxt(inFile , delimiter=',', filling_values=-1, names=True, dtype=None)\n",
    "\n",
    "table = extinctionCorrect(table)\n",
    "table = Kcorrection(table)\n",
    "\n",
    "## purifying input data\n",
    "index, = np.where(table['Sba']>0.01)\n",
    "table = trim(table, index)\n",
    "\n",
    "index, = np.where(table['Wba']>0.01)\n",
    "table = trim(table, index)\n",
    "\n",
    "Sba = table['Sba']  # SDSS b/a\n",
    "Wba = table['Wba']  # WISE b/a"
   ]
  },
  {
   "cell_type": "code",
   "execution_count": 35,
   "metadata": {},
   "outputs": [],
   "source": [
    "g_mag = table['g']\n",
    "r_mag = table['r']\n",
    "i_mag = table['i']\n",
    "w1_mag = table['w1']\n",
    "w2_mag = table['w2']\n",
    "Type = table['Ty']  # galaxy type\n",
    "\n",
    "## Dummy function\n",
    "def dummy(g, r, i, Type):\n",
    "    return g + r + i + Type\n",
    "\n",
    "w_est = dummy(g_mag, r_mag, i_mag, Type)  # estimated w magnitude"
   ]
  },
  {
   "cell_type": "code",
   "execution_count": 113,
   "metadata": {
    "scrolled": true
   },
   "outputs": [
    {
     "data": {
      "text/plain": [
       "(24.08177354831065, 80)"
      ]
     },
     "execution_count": 113,
     "metadata": {},
     "output_type": "execute_result"
    },
    {
     "data": {
      "image/png": "[encoded data removed]",
      "text/plain": [
       "<Figure size 360x360 with 1 Axes>"
      ]
     },
     "metadata": {},
     "output_type": "display_data"
    }
   ],
   "source": [
    "### Comparing measured and estimated w magnitudes\n",
    "## defining the linear fit\n",
    "def linfit(x, m, b):\n",
    "    return m * x + b\n",
    "fit, fitcov = curve_fit(linfit, w1_mag, w_est, p0=[1, 2])\n",
    "\n",
    "\n",
    "fig = plt.figure(figsize=(5, 5))\n",
    "plt.scatter(w1_mag, w_est, c='k', alpha=0.1, marker='.') # black points\n",
    "plt.plot(w1_mag, linfit(w1_mag, fit[0], fit[1]), 'b') # blue linear fit\n",
    "plt.plot([0,50],[0,50], 'r--')    # equality red line\n",
    "plt.ylim(min(w_est), 80)\n",
    "\n"
   ]
  },
  {
   "cell_type": "markdown",
   "metadata": {},
   "source": [
    "## Title "
   ]
  },
  {
   "cell_type": "code",
   "execution_count": null,
   "metadata": {},
   "outputs": [],
   "source": []
  }
 ],
 "metadata": {
  "kernelspec": {
   "display_name": "Python 2",
   "language": "python",
   "name": "python2"
  },
  "language_info": {
   "codemirror_mode": {
    "name": "ipython",
    "version": 2
   },
   "file_extension": ".py",
   "mimetype": "text/x-python",
   "name": "python",
   "nbconvert_exporter": "python",
   "pygments_lexer": "ipython2",
   "version": "2.7.14"
  }
 },
 "nbformat": 4,
 "nbformat_minor": 2
}
